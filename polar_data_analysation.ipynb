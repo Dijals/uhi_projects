{
 "cells": [
  {
   "cell_type": "markdown",
   "metadata": {},
   "source": [
    "# Working with the Polar Data   "
   ]
  },
  {
   "cell_type": "code",
   "execution_count": 111,
   "metadata": {},
   "outputs": [
    {
     "name": "stdout",
     "output_type": "stream",
     "text": [
      "Using matplotlib backend: Qt5Agg\n"
     ]
    }
   ],
   "source": [
    "import scipy.signal as sig\n",
    "import scipy.stats as stats\n",
    "\n",
    "import matplotlib.pyplot as plt\n",
    "from matplotlib import cm\n",
    "from matplotlib.ticker import LinearLocator, FormatStrFormatter\n",
    "import matplotlib.animation as animation\n",
    "import matplotlib.colors as colors\n",
    "%matplotlib\n",
    "\n",
    "import os\n",
    "import pandas as pd \n",
    "import numpy as np\n",
    "from datetime import datetime\n",
    "import xarray as xr\n",
    "from mpl_toolkits.mplot3d import Axes3D\n",
    "import time\n"
   ]
  },
  {
   "cell_type": "markdown",
   "metadata": {},
   "source": [
    "### heave_spectrum for 2016-12-29"
   ]
  },
  {
   "cell_type": "code",
   "execution_count": 135,
   "metadata": {},
   "outputs": [
    {
     "data": {
      "text/plain": [
       "3      0.000179939\n",
       "4       0.00155261\n",
       "5         0.024902\n",
       "6         0.190556\n",
       "7          1.13564\n",
       "8          1.28043\n",
       "9         0.523192\n",
       "10         3.36085\n",
       "11         10.9374\n",
       "12         11.9078\n",
       "13         7.59274\n",
       "14         6.43784\n",
       "15         6.70057\n",
       "16         5.62484\n",
       "17         5.65304\n",
       "18         5.11508\n",
       "19         4.33704\n",
       "20         4.67483\n",
       "21         4.74548\n",
       "22         4.53667\n",
       "23         2.68369\n",
       "24         2.00811\n",
       "25         2.23043\n",
       "26         2.39215\n",
       "27         1.50259\n",
       "28         1.68572\n",
       "29         1.81701\n",
       "30         1.57175\n",
       "31         1.51013\n",
       "32         1.38015\n",
       "          ...     \n",
       "73       0.0316566\n",
       "74       0.0271112\n",
       "75       0.0358717\n",
       "76       0.0287877\n",
       "77       0.0217573\n",
       "78       0.0136665\n",
       "79       0.0275209\n",
       "80       0.0189148\n",
       "81        0.024902\n",
       "82       0.0311853\n",
       "83       0.0147309\n",
       "84        0.020388\n",
       "85       0.0174606\n",
       "86       0.0114724\n",
       "87       0.0129351\n",
       "88        0.012679\n",
       "89      0.00688914\n",
       "90       0.0136665\n",
       "91       0.0102261\n",
       "92      0.00490348\n",
       "93      0.00335329\n",
       "94      0.00295927\n",
       "95      0.00166519\n",
       "96      0.00142609\n",
       "97      0.00146952\n",
       "98     0.000597454\n",
       "99     0.000628087\n",
       "100    0.000453806\n",
       "101    0.000269791\n",
       "102    6.29575e-05\n",
       "Name: 2016-12-29 00:00:00, Length: 100, dtype: object"
      ]
     },
     "execution_count": 135,
     "metadata": {},
     "output_type": "execute_result"
    }
   ],
   "source": [
    "fn_mkiv_heave_spectrum = r\"mkiv.h5\"\n",
    "\n",
    "h5_heave_spectrum = pd.HDFStore(fn_mkiv_heave_spectrum)\n",
    "\n",
    "heave_spectrum = h5_heave_spectrum.select('/heave_spectrum')\n",
    "\n",
    "df =heave_spectrum[(heave_spectrum.index >= \"2016-12-29\") & (heave_spectrum.index < \"2016-12-30\")].iloc[0]\n",
    "\n",
    "\n",
    "del df[0]\n",
    "del df[1]\n",
    "del df[2]\n",
    "del df['file_name']\n",
    "\n",
    "df.plot()"
   ]
  },
  {
   "cell_type": "markdown",
   "metadata": {},
   "source": [
    "## Grabbing the Polar h5 and converting it into a Panda's data frame. \n",
    "- I will be working with 64 rotation  "
   ]
  },
  {
   "cell_type": "code",
   "execution_count": 108,
   "metadata": {},
   "outputs": [],
   "source": [
    "fn_polar_data = r\"radar_rot_5.h5\"\n",
    "\n",
    "second_64_rotation_pd = pd.read_hdf(fn_polar_data,key='/polar_image', start=262144, stop=524288)"
   ]
  },
  {
   "cell_type": "markdown",
   "metadata": {},
   "source": [
    "Making a new H5 file with 64 rotations"
   ]
  },
  {
   "cell_type": "code",
   "execution_count": null,
   "metadata": {},
   "outputs": [],
   "source": [
    "#second_64_rotation_pd.to_hdf('rotation64.h5','polar_image', format='table', complevel=9, complib='blosc')"
   ]
  },
  {
   "cell_type": "markdown",
   "metadata": {},
   "source": [
    "### Using numpy to split the polar data into 64 dataframes"
   ]
  },
  {
   "cell_type": "code",
   "execution_count": 112,
   "metadata": {},
   "outputs": [],
   "source": [
    "list_with_64_rotation_df = np.split(second_64_rotation_pd, 64)"
   ]
  },
  {
   "cell_type": "markdown",
   "metadata": {},
   "source": [
    "Alternative method for the above np split"
   ]
  },
  {
   "cell_type": "code",
   "execution_count": 20,
   "metadata": {},
   "outputs": [],
   "source": [
    "#rot_dict = {}\n",
    "#for index, x in enumerate(list_rot_df):\n",
    "#    rot_dict[index] = x\n"
   ]
  },
  {
   "cell_type": "markdown",
   "metadata": {},
   "source": [
    "### Xarray\n",
    "- Using xArray to concat the 64 data frame into one and selecting a subset distance and the angle (256*256) of the polar data \n",
    "- These functions are used to create a DataSet that contains a DataFrame with 64 rotation data,\n",
    "  and each rotation will contain 256*256 Angle and Distance_Cells data\n"
   ]
  },
  {
   "cell_type": "code",
   "execution_count": 113,
   "metadata": {},
   "outputs": [],
   "source": [
    "def rotational_and_angular_datetime_list(dataframe_list):\n",
    "    #This function's parameter is a numpy array with 64 dataframes\n",
    "    \n",
    "    # This will contain a list of rotational DateTime for each rotation \n",
    "    rotational_datatime = [] # (64 rotation)\n",
    "    # This will contain a list of angular DateTime for each beam in a rotation \n",
    "    angular_datetime = [] # (256 beam per rotation)\n",
    "\n",
    "    # This will hold a list of 64 rotations\n",
    "    # that starts from 3269 and ends brfore 3525 index number for each rotation \n",
    "    rotational_df_with_256_rows = []\n",
    "    \n",
    "    # this loops 64 times \n",
    "    for x in range(len(dataframe_list)):\n",
    "\n",
    "        # This looks for index that starts from 3269 and ends before 3525\n",
    "        # and appends it to rotational_df_with_256_rows list\n",
    "        rotational_df_with_256_rows.append(dataframe_list[x].iloc[3269:3525])\n",
    "         \n",
    "        # This will grab the angular datetime column from each rotation \n",
    "        # and append it to the angular_datetime list \n",
    "        angular_datetime.append(rotational_df_with_256_rows[x].index.values)\n",
    "        \n",
    "        \n",
    "        \n",
    "        # This will grab the first datetime from each angular_datetime list for the \n",
    "        # rotational_datatime list. \n",
    "        rotational_datatime.append(angular_datetime[x][0])\n",
    "        \n",
    "    \"\"\"print(angular_datetime[0])\n",
    "    print(\"=========================\")\n",
    "    print(rotational_datatime)\"\"\"\n",
    "    \n",
    "    rotational_and_angular_datetime = {\n",
    "        'rotational_datatime' : rotational_datatime, \n",
    "        'angular_datetime' : angular_datetime \n",
    "    }\n",
    "    \n",
    "    return rotational_and_angular_datetime"
   ]
  },
  {
   "cell_type": "code",
   "execution_count": 114,
   "metadata": {},
   "outputs": [],
   "source": [
    "rotational_and_angular_datetime =rotational_and_angular_datetime_list(list_with_64_rotation_df)"
   ]
  },
  {
   "cell_type": "markdown",
   "metadata": {},
   "source": [
    "### UTM 29 North values for Mkiv\n",
    "- Extracting \"mkiv_opp_adj.h5\" file containing the UTM29N values for the mkiv. \n",
    "- Using scatter plot on the UTM29N values "
   ]
  },
  {
   "cell_type": "code",
   "execution_count": 115,
   "metadata": {},
   "outputs": [],
   "source": [
    "fn_mkiv_opp_adj = r\"mkiv_opp_adj.h5\"\n",
    "\n",
    "h5 = pd.HDFStore(fn_mkiv_opp_adj)\n",
    "\n",
    "h5.keys()\n",
    "\n",
    "mkiv_gps_df = h5.select('/mkiv_opp_adj')\n",
    "\n",
    "mkiv_x_opp_df = mkiv_gps_df['mkiv_x_opp_df'].as_matrix()\n",
    "mkiv_y_adj_df = mkiv_gps_df['mkiv_y_adj_df'].as_matrix()\n",
    "\n",
    "plt.figure(\"fig2\")\n",
    "plt.scatter(mkiv_gps_df['mkiv_x_opp_df'], mkiv_gps_df['mkiv_y_adj_df'])\n",
    "plt.show()"
   ]
  },
  {
   "cell_type": "markdown",
   "metadata": {},
   "source": [
    "### Creating a DataSet"
   ]
  },
  {
   "cell_type": "code",
   "execution_count": 118,
   "metadata": {},
   "outputs": [],
   "source": [
    "def create_a_xr_dataarray(rotation_list, rotational_and_angular_datetime):\n",
    "    \n",
    "    # The angular_index_range and distance_cells_index_range\n",
    "    # will be the coordinates for the angular_cells and distance_cells dimensions\n",
    "    angular_index_range = list(range(4096)) \n",
    "    distance_cells_index_range = list(range(1024))\n",
    "    \n",
    "    # This list will hold 64 DataArrays with angular_cells and distance_cells dimension\n",
    "    # and angular_index_range and distance_cells_index_range as the coordinates\n",
    "    list_x_dataarray = []\n",
    "    \n",
    "    # iterating through each rotations to create a dataArray\n",
    "    # and appending it to the list_x_dataarray.\n",
    "    # reset_index function is used to create a new integer index coulmn and\n",
    "    # drop=True parameter will delete the previous index in the dataFrame.\n",
    "\n",
    "    for index, x in enumerate(rotation_list[0:]):\n",
    "        list_x_dataarray.append(xr.DataArray(x.reset_index(drop=True),\n",
    "                                             coords=[angular_index_range, distance_cells_index_range], \n",
    "                                             dims=['angular_cells', 'distance_cells']))\n",
    "    \n",
    "    # the xArray concat function is to create an ND DataArray using the list of 64 DataArray (list_x_dataarray).\n",
    "    # An additional dimension is attached to the DataArray that represents each rotation.\n",
    "    xr_dataframe_rot = xr.concat(list_x_dataarray, dim='rotational_datatime' ) #rot_index_timeStamp  coords= list(range(64)),\n",
    "    \n",
    "    boy_locations_polar_data = select_a_subset_of_the_dataarray(xr_dataframe_rot)\n",
    "    \n",
    "    return create_a_xr_dataset(boy_locations_polar_data, rotational_and_angular_datetime )\n",
    "\n",
    "\n",
    "\n",
    "def select_a_subset_of_the_dataarray(rotation_dataarray):\n",
    "    \"\"\"\n",
    "    This function selectes a subset of angular \n",
    "    and distance cells from each rader rotations (64).\n",
    "    The subset holds backscatter data for the MKIV's location. \n",
    "    \n",
    "    This function's parameter contains an ND DataArray \n",
    "    (64 rotation, 4096 angular_cells, 1024 distance_cells)\n",
    "    \n",
    "    and returns an ND DataArray with \n",
    "    (64 rotation, 256 angular_cells, 256 distance_cells)\n",
    "    \n",
    "    \"\"\"\n",
    "    \n",
    "    rotational_datatime_range = list(range(0,64)) \n",
    "    angular_range = list(range(3269,3525)) \n",
    "    distance_cells_range = list(range(215,471))\n",
    "    \n",
    "    boy_locations_polar_data = rotation_dataarray[rotational_datatime_range, \n",
    "                                                  angular_range, \n",
    "                                                  distance_cells_range]\n",
    "    return boy_locations_polar_data\n",
    "    \n",
    "\n",
    "def create_a_xr_dataset(dataarray, datatime_dictionary):\n",
    "    \"\"\"\n",
    "    This function takes an ND DataArray with\n",
    "    (64 rotation, 256 angular_cells, 256 distance_cells)\n",
    "    \n",
    "    creates coordinate for the 64 rotation(rotational_datatime) \n",
    "    by using the rotational_datatime list defined above and \n",
    "    for each 256 rows for the 64 rotations using the angular_datetime list. \n",
    "    \n",
    "    The Function returns a DataSet containing a DataArray variable \n",
    "    \n",
    "    \"\"\"\n",
    "    ds = xr.Dataset({'second_rotation_64': dataarray},\n",
    "                coords = {\n",
    "                    'rotational_datatime': datatime_dictionary['rotational_datatime'],\n",
    "                    'angular_datetime': (\n",
    "                        ['rotational_datatime', 'angular_cells'], datatime_dictionary['angular_datetime']\n",
    "                    )\n",
    "                    ,\n",
    "                    'UTM29N_lon' : (\n",
    "                        ['angular_cells', 'distance_cells'], mkiv_y_adj_df\n",
    "                    ),\n",
    "                    'UTM29N_lat' : (\n",
    "                        ['angular_cells', 'distance_cells'], mkiv_x_opp_df\n",
    "                    )\n",
    "                })\n",
    "    return ds\n",
    "    "
   ]
  },
  {
   "cell_type": "code",
   "execution_count": 119,
   "metadata": {},
   "outputs": [],
   "source": [
    "ds = create_a_xr_dataarray(list_with_64_rotation_df, rotational_and_angular_datetime)"
   ]
  },
  {
   "cell_type": "code",
   "execution_count": 120,
   "metadata": {},
   "outputs": [
    {
     "data": {
      "text/plain": [
       "<xarray.DataArray 'second_rotation_64' (angular_cells: 256, distance_cells: 256)>\n",
       "array([[ 8183.,  8945.,  9252., ...,  8131.,  8728.,  8892.],\n",
       "       [ 8396.,  8979.,  9203., ...,  7832.,  8618.,  8927.],\n",
       "       [ 8610.,  9012.,  9155., ...,  7533.,  8508.,  8962.],\n",
       "       ..., \n",
       "       [ 9069.,  9315.,  9386., ...,  8567.,  8421.,  9283.],\n",
       "       [ 9375.,  9454.,  9395., ...,  7907.,  8101.,  9188.],\n",
       "       [ 9464.,  9522.,  9437., ...,  7560.,  7829.,  8947.]], dtype=float32)\n",
       "Coordinates:\n",
       "  * angular_cells        (angular_cells) int32 3269 3270 3271 3272 3273 3274 ...\n",
       "  * distance_cells       (distance_cells) int32 215 216 217 218 219 220 221 ...\n",
       "    rotational_datatime  datetime64[ns] 2016-12-29T00:08:34.339476\n",
       "    angular_datetime     (angular_cells) datetime64[ns] 2016-12-29T00:08:34.339476 ...\n",
       "    UTM29N_lon           (angular_cells, distance_cells) float64 6.598e+05 ...\n",
       "    UTM29N_lat           (angular_cells, distance_cells) float64 6.489e+06 ..."
      ]
     },
     "execution_count": 120,
     "metadata": {},
     "output_type": "execute_result"
    }
   ],
   "source": [
    "ds.second_rotation_64[1]"
   ]
  },
  {
   "cell_type": "code",
   "execution_count": 28,
   "metadata": {},
   "outputs": [
    {
     "name": "stdout",
     "output_type": "stream",
     "text": [
      "First rotation angular_datetime\n",
      "Number of Rows : 256 \n",
      "First row : 2016-12-29T00:08:33.018080000\n"
     ]
    }
   ],
   "source": [
    "print(\"First rotation angular_datetime\\nNumber of Rows :\", len(ds.first_rotation_64[0].angular_datetime), \"\\nFirst row :\", ds.first_rotation_64[0].angular_datetime[0].values)"
   ]
  },
  {
   "cell_type": "code",
   "execution_count": 122,
   "metadata": {},
   "outputs": [],
   "source": [
    "fig = plt.figure(figsize=(104, 104), dpi=65, facecolor='w', edgecolor='k')\n",
    "ax = fig.add_subplot(111, projection='3d')\n",
    "\n",
    "surf = ax.plot_surface(ds.UTM29N_lat.values, ds.UTM29N_lon.values, ds.second_rotation_64[0].values,cmap=cm.Blues,linewidth=0, antialiased=False)\n",
    "#lt.cla()\n",
    "#surf = ax.plot_surface(ds.UTM29N_lat.values, ds.UTM29N_lon.values, ds.second_rotation_64[1].values,cmap=cm.Blues, linewidth=0, antialiased=False)\n",
    "\n",
    "ax.set_aspect(0.31)\n",
    "# Add a color bar which maps values to colors.\n",
    "fig.colorbar(surf, shrink=0.5, aspect=10)\n",
    "\n",
    "ax.set_xlabel('X UTM29N_lat Label')\n",
    "ax.set_ylabel('Y UTM29N_lon Label')\n",
    "ax.set_zlabel('Z backscatter Label')\n",
    "\n",
    "plt.show()"
   ]
  },
  {
   "cell_type": "markdown",
   "metadata": {},
   "source": [
    "### making contourf animation \n",
    "- using the UTM29N values as X and Y \n",
    "- and 64 rotation backscatter values as the Z "
   ]
  },
  {
   "cell_type": "code",
   "execution_count": 126,
   "metadata": {},
   "outputs": [],
   "source": [
    "X = ds.UTM29N_lat.values\n",
    "Y = ds.UTM29N_lon.values\n",
    "Z = ds.second_rotation_64"
   ]
  },
  {
   "cell_type": "code",
   "execution_count": 127,
   "metadata": {},
   "outputs": [
    {
     "name": "stdout",
     "output_type": "stream",
     "text": [
      "<matplotlib.contour.QuadContourSet object at 0x0000002312AD1CC0>\n"
     ]
    }
   ],
   "source": [
    "def update_graph(num):\n",
    "    plt.cla()\n",
    "    line = ax.contourf(X, Y, Z[num].values, 64, cmap=cm.Blues,linewidth=0, antialiased=False,corner_mask=True )\n",
    "    title = ax.set_title('Rotation')\n",
    "    title.set_text('Rotation={}'.format(num))\n",
    "    \n",
    "\n",
    "\n",
    "fig = plt.figure(figsize=(16, 12), dpi=80, facecolor='w', edgecolor='k')\n",
    "\n",
    "ax = fig.add_subplot(111)\n",
    "title = ax.set_title('Rotation')\n",
    "\n",
    "\n",
    "line = ax.contourf(X, Y, Z[0].values, 64, cmap=cm.Blues,linewidth=0, antialiased=False,corner_mask=True)\n",
    "\n",
    "\n",
    "\n",
    "fig.colorbar(line, ax=ax, extend='max', aspect=10)\n",
    "\n",
    "ax.set_xlabel('X UTM29N_lat Label')\n",
    "ax.set_ylabel('Y UTM29N_lon Label')\n",
    "\n",
    "\n",
    "ani = matplotlib.animation.FuncAnimation(fig, update_graph, 64, \n",
    "                               interval=35, blit=False)\n",
    "plt.show()"
   ]
  },
  {
   "cell_type": "markdown",
   "metadata": {},
   "source": [
    "### making plot_surface animation\n",
    "- using the UTM29N values as X and Y\n",
    "- and 64 rotation backscatter values as the Z"
   ]
  },
  {
   "cell_type": "code",
   "execution_count": 128,
   "metadata": {},
   "outputs": [
    {
     "name": "stdout",
     "output_type": "stream",
     "text": [
      "<mpl_toolkits.mplot3d.art3d.Poly3DCollection object at 0x000000230F2876A0>\n"
     ]
    }
   ],
   "source": [
    "def update_graph(num):\n",
    "    plt.cla()\n",
    "    line = ax.plot_surface(X, Y, Z[num].values,  cmap=cm.Blues,linewidth=0, antialiased=False )\n",
    "    title = ax.set_title('Rotation')\n",
    "    title.set_text('Rotation={}'.format(num))\n",
    "    ax.set_aspect(0.35)\n",
    "\n",
    "\n",
    "fig = plt.figure(figsize=(80, 80), dpi=65, facecolor='w', edgecolor='k')\n",
    "ax = fig.add_subplot(111, projection='3d')\n",
    "title = ax.set_title('Rotation')\n",
    "\n",
    "\n",
    "line = ax.plot_surface(X, Y, Z[0].values, cmap=cm.Blues,linewidth=0, antialiased=False)\n",
    "ax.set_aspect(0.35)\n",
    "\n",
    "\n",
    "fig.colorbar(line, ax=ax, extend='max', aspect=10)\n",
    "#fig.colorbar(line, shrink=0.5, aspect=10)\n",
    "ax.set_xlabel('X UTM29N_lat Label')\n",
    "ax.set_ylabel('Y UTM29N_lon Label')\n",
    "ax.set_zlabel('Z backscatter Label')\n",
    "#ax.view_init(90, -90)\n",
    "ax.view_init(80, -90)\n",
    "\n",
    "ani = matplotlib.animation.FuncAnimation(fig, update_graph, 64, \n",
    "                               interval=35, blit=False)\n",
    "plt.show()"
   ]
  },
  {
   "cell_type": "markdown",
   "metadata": {},
   "source": [
    "### Working with the welch algorithm"
   ]
  },
  {
   "cell_type": "code",
   "execution_count": 145,
   "metadata": {},
   "outputs": [],
   "source": [
    "def create_frequency_welch_df(backscatters_for_point_over_time, frequency_of_samples=1/1.3):\n",
    "    return create_welch_df(backscatters_for_point_over_time, frequency_of_samples)\n",
    "\n",
    "def create_wavelength_welch_df(backscatters_returns_from_one_pulse, distance_between_cells=2.998): #5.995\n",
    "    return create_welch_df(backscatters_returns_from_one_pulse, distance_between_cells)\n",
    "\n",
    "def create_welch_df(dataframe, spacing):\n",
    "    \"\"\"Takes a single column spacing is either in metres or seconds\"\"\"\n",
    "    x,y = sig.welch(dataframe, spacing, noverlap=None)\n",
    "    dic = {'x':x,'y':y}\n",
    "    welch_df = pd.DataFrame(dic)\n",
    "    return welch_df\n",
    "\n",
    "def calc_welch(welch_df,fig_name, psd_dic = {}, save = False, line_name = ''):\n",
    "    \"\"\" Given dataframe will run welch's methods on the values, printing out the maxmimum power spectral density and the \n",
    "        frequency it occurs at, plots the output and returns the data\n",
    "    \"\"\"\n",
    "    psd_dic[line_name] = [welch_df.x.max(), welch_df.y.loc[welch_df.y==welch_df.y.max()]] \n",
    "\n",
    "    \n",
    "    plt.figure(fig_name)\n",
    "    plt.plot(welch_df.x,welch_df.y, label=line_name)\n",
    "    plt.ylabel('S(f) m^2/Hz')\n",
    "    plt.xlabel('Frequency (Hz)')\n",
    "    #plt.legend()\n",
    "    return psd_dic"
   ]
  },
  {
   "cell_type": "code",
   "execution_count": 147,
   "metadata": {},
   "outputs": [
    {
     "name": "stderr",
     "output_type": "stream",
     "text": [
      "C:\\Users\\le12jm\\AppData\\Local\\Continuum\\Anaconda3\\lib\\site-packages\\scipy\\signal\\spectral.py:1637: UserWarning: nperseg = 256 is greater than input length  = 64, using nperseg = 64\n",
      "  .format(nperseg, input_length))\n"
     ]
    }
   ],
   "source": [
    "mkiv_location_per_rotation = []\n",
    "for index, x in enumerate(ds.second_rotation_64):\n",
    "    mkiv_location_per_rotation.append(x.sel(angular_cells=3433,distance_cells=335).values)\n",
    "    \n",
    "    # Alternative methods\n",
    "    ## x.loc[3433,335]\n",
    "    ## x.loc[dict(angular_cells=3433,distance_cells=335)]\n",
    "    \n",
    "df  = pd.DataFrame(data=mkiv_location_per_rotation).T\n",
    "\n",
    "# Using the Welch algorithm to convert the wave form time domain to the frequency domain\n",
    "welch_df = create_frequency_welch_df(df.iloc[0])\n",
    "wavelength_df = calc_welch(welch_df, \"number4\")  "
   ]
  },
  {
   "cell_type": "code",
   "execution_count": null,
   "metadata": {},
   "outputs": [],
   "source": []
  }
 ],
 "metadata": {
  "kernelspec": {
   "display_name": "Python 3",
   "language": "python",
   "name": "python3"
  },
  "language_info": {
   "codemirror_mode": {
    "name": "ipython",
    "version": 3
   },
   "file_extension": ".py",
   "mimetype": "text/x-python",
   "name": "python",
   "nbconvert_exporter": "python",
   "pygments_lexer": "ipython3",
   "version": "3.6.1"
  }
 },
 "nbformat": 4,
 "nbformat_minor": 2
}
