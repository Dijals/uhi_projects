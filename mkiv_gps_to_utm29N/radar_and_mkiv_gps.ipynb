{
 "cells": [
  {
   "cell_type": "markdown",
   "metadata": {},
   "source": [
    "# MKIV UTM29N Locations"
   ]
  },
  {
   "cell_type": "code",
   "execution_count": 2,
   "metadata": {},
   "outputs": [
    {
     "name": "stdout",
     "output_type": "stream",
     "text": [
      "Using matplotlib backend: Qt5Agg\n"
     ]
    }
   ],
   "source": [
    "import gps_to_utm29n as utm29n\n",
    "import pandas as pd \n",
    "import numpy as np\n",
    "import matplotlib.pyplot as plt\n",
    "import pyproj\n",
    "from datetime import datetime\n",
    "%matplotlib"
   ]
  },
  {
   "cell_type": "code",
   "execution_count": 3,
   "metadata": {},
   "outputs": [
    {
     "name": "stdout",
     "output_type": "stream",
     "text": [
      "Help on module gps_to_utm29n:\n",
      "\n",
      "NAME\n",
      "    gps_to_utm29n\n",
      "\n",
      "FUNCTIONS\n",
      "    convertCoords(row)\n",
      "        This Converts lat and long values into a UTM 29 North values\n",
      "    \n",
      "    mkiv_utm29n_values(angular_position_range, distance_position_range, xopp_and_yadj)\n",
      "        This takes a dictionary that contains the whole rotational utm29n values and extracts the utm29n values of the mkiv using the angular,\n",
      "        and distance position of the mkiv\n",
      "    \n",
      "    utm_of_the_polar_data(UTM29N, distance, columns, rows)\n",
      "        This takes the UTM29N values of the radar, the distance the radar covers, and the quantity of rows and columns for the whole rotation \n",
      "        This returns a dictionary that holds the UTM29N values for the whole rotation\n",
      "\n",
      "FILE\n",
      "    c:\\users\\06021124\\documents\\researchproject\\gps_to_utm29n.py\n",
      "\n",
      "\n"
     ]
    }
   ],
   "source": [
    "help(utm29n)"
   ]
  },
  {
   "cell_type": "markdown",
   "metadata": {},
   "source": [
    "## converting mkiv gps h5 file into a pandas DataFrame  \n",
    "- This mkiv.h5 file contains the boy database \n",
    "- Converting the mkiv.h5 file into a pandas DataFrame\n",
    "- gps_locations is the h5 table that contains the lat and longs for mkiv.\n",
    "- The select method is used to convert the h5 table into a DataFrame"
   ]
  },
  {
   "cell_type": "code",
   "execution_count": 4,
   "metadata": {},
   "outputs": [],
   "source": [
    "mkivh5_file = r\"mkiv.h5\" \n",
    "h5 = pd.HDFStore(mkivh5_file)\n",
    "mkiv_gps_df = h5.select('/gps_locations')"
   ]
  },
  {
   "cell_type": "markdown",
   "metadata": {},
   "source": [
    "- Creating a dictionary for the lat and long radar values and converting lat and long into an UTM29N values \n",
    "- Using radar's UTM29N values to get the whole rotation's UTM 29 north values "
   ]
  },
  {
   "cell_type": "code",
   "execution_count": 5,
   "metadata": {},
   "outputs": [],
   "source": [
    "lat_lon = {\n",
    "    'lat' : 58.5152405,\n",
    "    'lon' : -6.2604932\n",
    "}"
   ]
  },
  {
   "cell_type": "code",
   "execution_count": 6,
   "metadata": {},
   "outputs": [],
   "source": [
    "radar_utm29n = utm29n.convertCoords(lat_lon)\n",
    "radar_xopp_and_yadj = utm29n.utm_of_the_polar_data(radar_utm29n, 3070, 4096, 1024)"
   ]
  },
  {
   "cell_type": "code",
   "execution_count": 10,
   "metadata": {},
   "outputs": [],
   "source": [
    "def plot_x_and_y_utm(radar_xopp_and_yadj):\n",
    "    \"\"\" This takes a dictionary that contains the UTM 29 north values of the whole rotations \n",
    "    and returns a scatter chart. \"\"\"\n",
    "    plt.figure(\"fig3\")\n",
    "    plt.scatter(radar_xopp_and_yadj['x_opp'], radar_xopp_and_yadj['y_adj'])\n",
    "    plt.show()"
   ]
  },
  {
   "cell_type": "code",
   "execution_count": 11,
   "metadata": {},
   "outputs": [],
   "source": [
    "plot_x_and_y_utm(radar_xopp_and_yadj)"
   ]
  },
  {
   "cell_type": "code",
   "execution_count": 8,
   "metadata": {},
   "outputs": [],
   "source": [
    "angular_range = list(range(3269,3525)) \n",
    "distance_cells_range = list(range(215,471))\n",
    "\n",
    "mkiv_utm29n_values = utm29n.mkiv_utm29n_values(angular_range,distance_cells_range,  radar_xopp_and_yadj)"
   ]
  },
  {
   "cell_type": "code",
   "execution_count": 13,
   "metadata": {},
   "outputs": [],
   "source": [
    "plt.figure(\"fig3\")\n",
    "plt.scatter(mkiv_utm29n_values['mkiv_x_opp_df'], mkiv_utm29n_values['mkiv_y_adj_df'])\n",
    "plt.show()"
   ]
  },
  {
   "cell_type": "code",
   "execution_count": null,
   "metadata": {},
   "outputs": [],
   "source": []
  }
 ],
 "metadata": {
  "kernelspec": {
   "display_name": "Python 3",
   "language": "python",
   "name": "python3"
  },
  "language_info": {
   "codemirror_mode": {
    "name": "ipython",
    "version": 3
   },
   "file_extension": ".py",
   "mimetype": "text/x-python",
   "name": "python",
   "nbconvert_exporter": "python",
   "pygments_lexer": "ipython3",
   "version": "3.6.1"
  }
 },
 "nbformat": 4,
 "nbformat_minor": 2
}
