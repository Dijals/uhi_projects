{
 "cells": [
  {
   "cell_type": "markdown",
   "metadata": {},
   "source": [
    "# MKIV location analysis\n",
    "Using the MKIV file to find the angle and the distance position on the Polar data"
   ]
  },
  {
   "cell_type": "code",
   "execution_count": 3,
   "metadata": {},
   "outputs": [],
   "source": [
    "from scipy.io import loadmat\n",
    "import pandas as pd \n",
    "import numpy as np\n",
    "from datetime import datetime\n",
    "from datetime import timedelta"
   ]
  },
  {
   "cell_type": "code",
   "execution_count": 60,
   "metadata": {},
   "outputs": [],
   "source": [
    "def windows_timestamp_to_python_datetime(x):\n",
    "    return datetime(1601,1,1) + timedelta(microseconds=x/10)\n",
    "\n",
    "def creating_a_mkiv_df(mdata, mcolumn = ['time','x','y']):\n",
    "    mat_dataframe = pd.DataFrame(mdata, columns=mcolumn)\n",
    "    \n",
    "    return making_datatime_index_for_MKIV(mat_dataframe) \n",
    "\n",
    "def making_datatime_index_for_MKIV(df):\n",
    "    # Getting the time column from the data frame \n",
    "    time_field = df['time']\n",
    "    \n",
    "    # Converting the window's time stamp to Python datetime one by one and appending it to a list \n",
    "    windows_timestamp = []\n",
    "    for x in time_field:\n",
    "        windows_timestamp.append(windows_timestamp_to_python_datetime(x)) \n",
    "        \n",
    "    # Creating a new dataframe with the x and y column and making Python datetime as the index \n",
    "    x_and_y_df = mat_dataframe[['x','y']] \n",
    "    x_and_y_df.index=windows_timestamp\n",
    "    \n",
    "    return x_and_y_df\n",
    "\n",
    "\n",
    "\n",
    "def finding_min_and_max_for_xy(df):\n",
    "    # Getting columns and rows where index is higher or equal to 2016-12-29 and lower than 2016-12-31 \n",
    "    max_and_min_xy_df = df[ ((df.index >= \"2016-12-29 00:00:00.000000\") & \n",
    "                                     (df.index < \"2016-12-31 00:00:00.000000\") ) ]\n",
    "    # Getting the max and min value for x and y \n",
    "    x_min_and_max = [max_and_min_xy_df['x'].min(), max_and_min_xy_df['x'].max()]\n",
    "    y_min_and_max = [max_and_min_xy_df['y'].min(), max_and_min_xy_df['y'].max()]\n",
    "    \n",
    "    return identifying_polar_data_subset_position(x_min_and_max, y_min_and_max)\n",
    "\n",
    "\n",
    "def identifying_polar_data_subset_position(x_min_and_max, y_min_and_max):\n",
    "    \n",
    "    x_min, x_max = x_min_and_max[0], x_min_and_max[1]\n",
    "    y_min, y_max = y_min_and_max[0], y_min_and_max[1]\n",
    "    \n",
    "    x_difference = x_max - x_min\n",
    "    y_difference = y_max - y_min\n",
    "    \n",
    "    x_start_position = ((256 - x_difference) / 2) +  x_max\n",
    "    x_end_position =  x_min - ((256 - x_difference) / 2) \n",
    "    \n",
    "    y_start_position = ((256 - y_difference) / 2) +  y_max\n",
    "    y_end_position = y_min - ((256 - y_difference) / 2) \n",
    "    \n",
    "    start_x_and_y = [x_start_position,y_start_position]\n",
    "    end_x_and_y  = [x_end_position, y_end_position]\n",
    "    \n",
    "    return [start_x_and_y, end_x_and_y]\n"
   ]
  },
  {
   "cell_type": "code",
   "execution_count": 25,
   "metadata": {},
   "outputs": [],
   "source": [
    "mat_fn = r\"mat/PulseBinM4Dec.mat\"\n",
    "mat = loadmat(mat_fn)\n",
    "mdata = mat['PulseBinM4']\n",
    "\n",
    "x_and_y_df = creating_a_mkiv_df(mdata)"
   ]
  },
  {
   "cell_type": "code",
   "execution_count": 54,
   "metadata": {},
   "outputs": [
    {
     "data": {
      "text/plain": [
       "[324.0, 362.0]"
      ]
     },
     "execution_count": 54,
     "metadata": {},
     "output_type": "execute_result"
    }
   ],
   "source": [
    "# Getting columns and rows where index is higher or equal to 2016-12-29 and lower than 2016-12-31 \n",
    "max_and_min_xy_df = x_and_y_df[ ((x_and_y_df.index >= \"2016-12-29 00:00:00.000000\") & (x_and_y_df.index < \"2016-12-31 00:00:00.000000\") ) ]\n",
    "# Getting the max and min value for x and y \n",
    "x_min_and_max = [max_and_min_xy_df['x'].min(), max_and_min_xy_df['x'].max()]\n",
    "y_min_and_max = [max_and_min_xy_df['y'].min(), max_and_min_xy_df['y'].max()]\n",
    "\n",
    "y_min_and_max"
   ]
  },
  {
   "cell_type": "code",
   "execution_count": 61,
   "metadata": {},
   "outputs": [],
   "source": [
    "start_and_end_postion = finding_min_and_max_for_xy(x_and_y_df)"
   ]
  },
  {
   "cell_type": "code",
   "execution_count": 56,
   "metadata": {},
   "outputs": [
    {
     "data": {
      "text/plain": [
       "[[3525.5, 471.0], [3269.5, 215.0]]"
      ]
     },
     "execution_count": 56,
     "metadata": {},
     "output_type": "execute_result"
    }
   ],
   "source": [
    "start_and_end_postion"
   ]
  },
  {
   "cell_type": "code",
   "execution_count": null,
   "metadata": {},
   "outputs": [],
   "source": []
  }
 ],
 "metadata": {
  "kernelspec": {
   "display_name": "Python 3",
   "language": "python",
   "name": "python3"
  },
  "language_info": {
   "codemirror_mode": {
    "name": "ipython",
    "version": 3
   },
   "file_extension": ".py",
   "mimetype": "text/x-python",
   "name": "python",
   "nbconvert_exporter": "python",
   "pygments_lexer": "ipython3",
   "version": "3.6.1"
  }
 },
 "nbformat": 4,
 "nbformat_minor": 2
}
