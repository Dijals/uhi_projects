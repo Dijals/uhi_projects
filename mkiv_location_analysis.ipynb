{
 "cells": [
  {
   "cell_type": "markdown",
   "metadata": {},
   "source": [
    "# MKIV location analysis\n",
    "Using the MKIV file to find the angle and the distance position on the Polar data"
   ]
  },
  {
   "cell_type": "code",
   "execution_count": 1,
   "metadata": {},
   "outputs": [],
   "source": [
    "from scipy.io import loadmat\n",
    "import pandas as pd \n",
    "import numpy as np\n",
    "from datetime import datetime\n",
    "from datetime import timedelta"
   ]
  },
  {
   "cell_type": "code",
   "execution_count": 95,
   "metadata": {},
   "outputs": [],
   "source": [
    "def windows_timestamp_to_python_datetime(x):\n",
    "    \"\"\"\n",
    "    This method is used to convert a windows timestamp to a python datetime\n",
    "    \"\"\"\n",
    "    return datetime(1601,1,1) + timedelta(microseconds=x/10)\n",
    "\n",
    "def creating_a_mkiv_df(mdata, mcolumn = ['time','x','y']):\n",
    "    \"\"\"\n",
    "    This method takes a list that contains the time, distance (x position) and the angle (y position) position\n",
    "    of the MKIV in the Polar Data and returns a pandas DataFrame \n",
    "    \"\"\"\n",
    "    mat_dataframe = pd.DataFrame(mdata, columns=mcolumn)\n",
    "    \n",
    "    # This function is used to convert all the windows timestamp fields in the mat_dataframe to Python DateTime\n",
    "    return convert_timestamp_to_python_datatime_index_for_MKIV(mat_dataframe) \n",
    "\n",
    "def convert_timestamp_to_python_datatime_index_for_MKIV(df):\n",
    "    \"\"\"\n",
    "    This method takes a Pandas DataFrame with a column name 'time' and converts it to Python DateTime.\n",
    "    The column 'time' will be removed from the DataFrame and the converted Python DateTime will be placed \n",
    "    as the new index for the column x and y  \n",
    "    \"\"\"\n",
    "    # Getting the time column from the data frame \n",
    "    time_column = df.time\n",
    "    \n",
    "    # Converting the window's timestamp to Python DateTime one by one and appending it to a list \n",
    "    python_datetime = []\n",
    "    \n",
    "    for x in time_column:\n",
    "        python_datetime.append(windows_timestamp_to_python_datetime(x)) \n",
    "        \n",
    "    # Creating a new dataframe with the x and y column and making Python datetime as the index \n",
    "    x_and_y_df = df[['x','y']] \n",
    "    x_and_y_df.index=python_datetime\n",
    "    \n",
    "    print(x_and_y_df)\n",
    "    return x_and_y_df"
   ]
  },
  {
   "cell_type": "code",
   "execution_count": 91,
   "metadata": {},
   "outputs": [],
   "source": [
    "def finding_min_and_max_for_xy(df):\n",
    "    \"\"\"\n",
    "    This method takes a Pandas DataFrame with a DateTime index and a column name 'x' and 'y'.\n",
    "    The function will grab the DateTime index's columns that are higher or equal to 2016-12-29 and lower than 2016-12-31 \n",
    "    and finds the min and max value for the x and y columns. \n",
    "    \"\"\"\n",
    "    \n",
    "    # Getting columns and rows where index is higher or equal to 2016-12-29 and lower than 2016-12-31 \n",
    "    df = df[ ((df.index >= \"2016-12-29\") & \n",
    "              (df.index < \"2016-12-31\") ) ]\n",
    "    \n",
    "    # Getting the max and min value for x and y \n",
    "    min_and_max_values = { 'x_min' : df.x.min(), \n",
    "                           'x_max' : df.x.max(),\n",
    "                           'y_min' : df.y.min(),\n",
    "                           'y_max' : df.y.max()}\n",
    "    \n",
    "    return identifying_polar_data_subset_position(min_and_max_values)\n",
    "\n",
    "\n",
    "def identifying_polar_data_subset_position(min_and_max_values):\n",
    "    \"\"\"\n",
    "    This method takes min and max value of x and y columns and calculates the subset to use for the Polar Data \n",
    "    \"\"\"\n",
    "    x = {'x_min' : min_and_max_values['x_min'], \n",
    "         'x_max' : min_and_max_values['x_max']}\n",
    "    \n",
    "    y = {\n",
    "         'y_min' : min_and_max_values['y_min'], \n",
    "         'y_max' : min_and_max_values['y_max']\n",
    "        }\n",
    "   \n",
    "    x_difference = x['x_max'] - x['x_min'] #95.0 \n",
    "    y_difference = y['y_max'] - y['y_min'] #38.0\n",
    "    \n",
    "    x_y_positions = { 'x_position' : {'x_start_position' : x['x_min'] - ((256 - x_difference) / 2),\n",
    "                                      'x_end_position' : ((256 - x_difference) / 2) +  x['x_max']},\n",
    "                     \n",
    "                      'y_position' : {'y_start_position' : y['y_min'] - ((256 - y_difference) / 2),\n",
    "                                      'y_end_position' : ((256 - y_difference) / 2) +  y['y_max']}\n",
    "                    }  \n",
    "    return x_y_positions"
   ]
  },
  {
   "cell_type": "code",
   "execution_count": 96,
   "metadata": {},
   "outputs": [
    {
     "name": "stdout",
     "output_type": "stream",
     "text": [
      "                                 x      y\n",
      "2016-11-30 23:59:00.000004  3399.0  325.0\n",
      "2016-12-01 00:00:59.999996  3403.0  326.0\n",
      "2016-12-01 00:08:59.999998  3413.0  331.0\n",
      "2016-12-01 00:11:00.000002  3416.0  331.0\n",
      "2016-12-01 00:11:00.000002  3416.0  331.0\n",
      "2016-12-01 00:19:00.000004  3424.0  337.0\n",
      "2016-12-01 00:20:59.999996  3424.0  339.0\n",
      "2016-12-01 00:20:59.999996  3424.0  339.0\n",
      "2016-12-01 00:28:59.999996  3424.0  340.0\n",
      "2016-12-01 00:31:00.000000  3425.0  341.0\n",
      "2016-12-01 00:39:00.000002  3426.0  341.0\n",
      "2016-12-01 00:41:00.000004  3426.0  341.0\n",
      "2016-12-01 00:41:00.000004  3426.0  341.0\n",
      "2016-12-01 00:48:59.999996  3428.0  340.0\n",
      "2016-12-01 00:50:59.999998  3428.0  340.0\n",
      "2016-12-01 00:50:59.999998  3428.0  340.0\n",
      "2016-12-01 00:59:00.000000  3429.0  339.0\n",
      "2016-12-01 01:01:00.000004  3428.0  338.0\n",
      "2016-12-01 01:09:00.000004  3429.0  337.0\n",
      "2016-12-01 01:10:59.999996  3428.0  338.0\n",
      "2016-12-01 01:10:59.999996  3428.0  338.0\n",
      "2016-12-01 01:18:59.999998  3428.0  336.0\n",
      "2016-12-01 01:21:00.000002  3427.0  334.0\n",
      "2016-12-01 01:21:00.000002  3427.0  334.0\n",
      "2016-12-01 01:29:00.000004  3429.0  335.0\n",
      "2016-12-01 01:30:59.999996  3428.0  335.0\n",
      "2016-12-01 01:38:59.999998  3427.0  334.0\n",
      "2016-12-01 01:41:00.000002  3428.0  334.0\n",
      "2016-12-01 01:41:00.000002  3428.0  334.0\n",
      "2016-12-01 01:49:00.000004  3427.0  332.0\n",
      "...                            ...    ...\n",
      "2016-12-31 22:01:00.000004  3364.0  355.0\n",
      "2016-12-31 22:09:00.000004  3358.0  352.0\n",
      "2016-12-31 22:10:59.999996  3358.0  352.0\n",
      "2016-12-31 22:18:59.999998  3356.0  352.0\n",
      "2016-12-31 22:21:00.000002  3356.0  352.0\n",
      "2016-12-31 22:21:00.000002  3356.0  352.0\n",
      "2016-12-31 22:29:00.000004  3355.0  353.0\n",
      "2016-12-31 22:30:59.999996  3356.0  353.0\n",
      "2016-12-31 22:38:59.999998  3354.0  351.0\n",
      "2016-12-31 22:41:00.000002  3352.0  352.0\n",
      "2016-12-31 22:41:00.000002  3352.0  352.0\n",
      "2016-12-31 22:49:00.000004  3353.0  351.0\n",
      "2016-12-31 22:50:59.999996  3352.0  352.0\n",
      "2016-12-31 22:50:59.999996  3352.0  352.0\n",
      "2016-12-31 22:58:59.999996  3352.0  350.0\n",
      "2016-12-31 23:01:00.000000  3352.0  351.0\n",
      "2016-12-31 23:09:00.000002  3353.0  351.0\n",
      "2016-12-31 23:11:00.000004  3352.0  351.0\n",
      "2016-12-31 23:11:00.000004  3352.0  351.0\n",
      "2016-12-31 23:18:59.999996  3350.0  349.0\n",
      "2016-12-31 23:20:59.999998  3351.0  350.0\n",
      "2016-12-31 23:20:59.999998  3351.0  350.0\n",
      "2016-12-31 23:29:00.000000  3351.0  348.0\n",
      "2016-12-31 23:31:00.000004  3350.0  348.0\n",
      "2016-12-31 23:39:00.000004  3350.0  346.0\n",
      "2016-12-31 23:40:59.999996  3349.0  345.0\n",
      "2016-12-31 23:40:59.999996  3349.0  345.0\n",
      "2016-12-31 23:48:59.999998  3350.0  340.0\n",
      "2016-12-31 23:51:00.000002  3351.0  339.0\n",
      "2016-12-31 23:51:00.000002  3351.0  339.0\n",
      "\n",
      "[11796 rows x 2 columns]\n"
     ]
    }
   ],
   "source": [
    "mat_fn = r\"mat/PulseBinM4Dec.mat\"\n",
    "mat = loadmat(mat_fn)\n",
    "mdata = mat['PulseBinM4']\n",
    "\n",
    "x_and_y_df = creating_a_mkiv_df(mdata) "
   ]
  },
  {
   "cell_type": "code",
   "execution_count": 93,
   "metadata": {},
   "outputs": [],
   "source": [
    "start_and_end_postion = finding_min_and_max_for_xy(x_and_y_df)"
   ]
  },
  {
   "cell_type": "code",
   "execution_count": 94,
   "metadata": {},
   "outputs": [
    {
     "data": {
      "text/plain": [
       "{'x_position': {'x_end_position': 3525.5, 'x_start_position': 3269.5},\n",
       " 'y_position': {'y_end_position': 471.0, 'y_start_position': 215.0}}"
      ]
     },
     "execution_count": 94,
     "metadata": {},
     "output_type": "execute_result"
    }
   ],
   "source": [
    "start_and_end_postion"
   ]
  },
  {
   "cell_type": "code",
   "execution_count": null,
   "metadata": {},
   "outputs": [],
   "source": []
  }
 ],
 "metadata": {
  "kernelspec": {
   "display_name": "Python 3",
   "language": "python",
   "name": "python3"
  },
  "language_info": {
   "codemirror_mode": {
    "name": "ipython",
    "version": 3
   },
   "file_extension": ".py",
   "mimetype": "text/x-python",
   "name": "python",
   "nbconvert_exporter": "python",
   "pygments_lexer": "ipython3",
   "version": "3.6.1"
  }
 },
 "nbformat": 4,
 "nbformat_minor": 2
}
