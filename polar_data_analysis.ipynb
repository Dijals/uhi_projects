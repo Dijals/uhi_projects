{
 "cells": [
  {
   "cell_type": "markdown",
   "metadata": {},
   "source": [
    "# Working with the Polar Data   "
   ]
  },
  {
   "cell_type": "code",
   "execution_count": 1,
   "metadata": {},
   "outputs": [
    {
     "name": "stdout",
     "output_type": "stream",
     "text": [
      "Using matplotlib backend: Qt5Agg\n"
     ]
    }
   ],
   "source": [
    "import scipy.signal as sig\n",
    "import scipy.stats as stats\n",
    "import matplotlib.pyplot as plt\n",
    "%matplotlib\n",
    "import os\n",
    "import pandas as pd \n",
    "import numpy as np\n",
    "from datetime import datetime\n",
    "import xarray as xr"
   ]
  },
  {
   "cell_type": "markdown",
   "metadata": {},
   "source": [
    "## Grabbing the Polar h5 and converting it into a Panda's data frame. \n",
    "I will be working with 64 rotation  "
   ]
  },
  {
   "cell_type": "code",
   "execution_count": null,
   "metadata": {},
   "outputs": [],
   "source": [
    "fn_polar_data = r\"radar_rot_5.h5\"\n",
    "#h5 = pd.HDFStore(fn_polar_data)\n",
    "#h5.keys()\n",
    "polar_pd_dataframe =  pd.read_hdf(fn_polar_data,key='/polar_image', start=0, stop=262144)"
   ]
  },
  {
   "cell_type": "markdown",
   "metadata": {},
   "source": [
    "### Using numpy to split the polar data into 64 dataframes"
   ]
  },
  {
   "cell_type": "code",
   "execution_count": null,
   "metadata": {},
   "outputs": [],
   "source": [
    "list_rot_df = np.split(polar_pd_dataframe, 64)"
   ]
  },
  {
   "cell_type": "code",
   "execution_count": 22,
   "metadata": {},
   "outputs": [],
   "source": [
    "#rot_dict = {}\n",
    "#for index, x in enumerate(list_rot_df):\n",
    "#    rot_dict[index] = x"
   ]
  },
  {
   "cell_type": "markdown",
   "metadata": {},
   "source": [
    "### Xarray\n",
    "Using xArray to concat the 64 data frame into one and \n",
    "selecting a subset distance and the angle (256*256) of the polar data "
   ]
  },
  {
   "cell_type": "code",
   "execution_count": null,
   "metadata": {},
   "outputs": [],
   "source": [
    "def create_a_xr_dataarray(rotation_list, DateTimeIndex_range=list(range(4096)), Distance_Cells_Index_range = list(range(1024))):\n",
    "    list_x_dataarray = []\n",
    "    for index, x in enumerate(rotation_list[0:]):\n",
    "        list_x_dataarray.append(xr.DataArray(x.reset_index(drop=True),coords=[DateTimeIndex_range, Distance_Cells_Index_range], dims=['DateTime', 'Distance_Cells']))\n",
    "    \n",
    "    xr_dataframe_rot = xr.concat(list_x_dataarray, dim='rotation_id') \n",
    "    \n",
    "    return select_a_subset_of_the_dataarray(xr_dataframe_rot)\n",
    "\n",
    "def select_a_subset_of_the_dataarray(rotation_dataarray, rotation_id_range = list(range(0,64)), DateTimeRange = list(range(3269,3525)), Distance_Cells_Range = list(range(215,471))):\n",
    "    boy_locations_polar_data = rotation_dataarray[rotation_id_range, DateTimeRange, Distance_Cells_Range]\n",
    "    return boy_locations_polar_data\n",
    "    \n"
   ]
  },
  {
   "cell_type": "code",
   "execution_count": 7,
   "metadata": {},
   "outputs": [],
   "source": [
    "boy_locations_polar_data = create_a_xr_dataarray(list_rot_df)"
   ]
  },
  {
   "cell_type": "markdown",
   "metadata": {},
   "source": [
    "### Working with the welch algorithm"
   ]
  },
  {
   "cell_type": "code",
   "execution_count": 10,
   "metadata": {},
   "outputs": [],
   "source": [
    "def create_frequency_welch_df(backscatters_for_point_over_time, frequency_of_samples=1.3):\n",
    "    return create_welch_df(backscatters_for_point_over_time, frequency_of_samples)\n",
    "\n",
    "def create_wavelength_welch_df(backscatters_returns_from_one_pulse, distance_between_cells=5.995):\n",
    "    return create_welch_df(backscatters_returns_from_one_pulse, distance_between_cells)\n",
    "\n",
    "def create_welch_df(dataframe, spacing):\n",
    "    \"\"\"Takes a single column spacing is either in metres or seconds\"\"\"\n",
    "    x,y = sig.welch(dataframe, spacing, noverlap=None)\n",
    "    dic = {'x':x,'y':y}\n",
    "    welch_df = pd.DataFrame(dic)\n",
    "    return welch_df\n",
    "\n",
    "def calc_welch(welch_df, psd_dic = {}, save = False, line_name = ''):\n",
    "    \"\"\" Given a dataframe will run welch's methods on the values, printing out the maxmimum power spectral density and the \n",
    "        frequency it occurs at, plots the output and returns the data\n",
    "    \"\"\"\n",
    "    psd_dic[line_name] = [welch_df.x.max(), welch_df.y.loc[welch_df.y==welch_df.y.max()]]\n",
    "    plt.plot(welch_df.x,welch_df.y, label=line_name)\n",
    "    plt.ylabel('S(f) m^2/Hz')\n",
    "    plt.xlabel('Frequency (Hz)')\n",
    "    plt.legend()\n",
    "    return psd_dic"
   ]
  },
  {
   "cell_type": "code",
   "execution_count": 14,
   "metadata": {},
   "outputs": [
    {
     "name": "stderr",
     "output_type": "stream",
     "text": [
      "C:\\Users\\le12jm\\AppData\\Local\\Continuum\\Anaconda3\\lib\\site-packages\\matplotlib\\axes\\_axes.py:545: UserWarning: No labelled objects found. Use label='...' kwarg on individual plots.\n",
      "  warnings.warn(\"No labelled objects found. \"\n"
     ]
    }
   ],
   "source": [
    "# Converting the second rotation into a data frame \n",
    "df = boy_locations_polar_data[60].to_pandas()\n",
    "\n",
    "# Using the Welch algorithm to convert the wave form time domain to the frequency domain \n",
    "for x in range(len(df)):\n",
    "    welch_df = create_wavelength_welch_df(df.iloc[x])\n",
    "    wavelength_df = calc_welch(welch_df)"
   ]
  },
  {
   "cell_type": "code",
   "execution_count": null,
   "metadata": {},
   "outputs": [],
   "source": [
    "create_welch_df(df, 1.3)"
   ]
  },
  {
   "cell_type": "code",
   "execution_count": null,
   "metadata": {},
   "outputs": [],
   "source": []
  }
 ],
 "metadata": {
  "kernelspec": {
   "display_name": "Python 3",
   "language": "python",
   "name": "python3"
  },
  "language_info": {
   "codemirror_mode": {
    "name": "ipython",
    "version": 3
   },
   "file_extension": ".py",
   "mimetype": "text/x-python",
   "name": "python",
   "nbconvert_exporter": "python",
   "pygments_lexer": "ipython3",
   "version": "3.6.1"
  }
 },
 "nbformat": 4,
 "nbformat_minor": 2
}
